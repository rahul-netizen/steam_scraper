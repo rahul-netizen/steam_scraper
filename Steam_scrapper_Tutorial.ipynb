{
 "cells": [
  {
   "cell_type": "markdown",
   "metadata": {},
   "source": [
    "## Steam Webscrapper\n",
    "![img](https://sm.pcmag.com/t/pcmag_in/how-to/2/21-steam-t/21-steam-tips-for-pc-gaming-noobs-and-power-users_khuz.1920.jpg)\n",
    "\n",
    "> In this project I will be showing:\n",
    ">- Scrapping Top 100 Topsellers from [steam](https://store.steampowered.com/)\n",
    ">- Automating the web browser to load a steam's dynamic website using Selenium\n",
    ">- Using requests, BeautifulSoup libraries to scrape the website \n",
    ">- Saving the scraped data to a csv file and loading it back in a dataframe using pandas\n",
    ">- Sending the csv file to email using Python\n",
    ">- Setting up a github action to automate daily web scrapping and sending csv file to email on a specified schedule\n",
    ">- We will also do web crawling using requests"
   ]
  },
  {
   "cell_type": "markdown",
   "metadata": {},
   "source": [
    "### Using Selenium to access the website"
   ]
  },
  {
   "cell_type": "code",
   "execution_count": 1,
   "metadata": {},
   "outputs": [],
   "source": [
    "from selenium import webdriver \n",
    "from selenium.common.exceptions import NoSuchElementException\n",
    "from selenium.webdriver.chrome.options import Options"
   ]
  },
  {
   "cell_type": "markdown",
   "metadata": {},
   "source": [
    "### Setting up chrome options\n",
    ">- You add these options before starting the web browser\n",
    "- For more: https://peter.sh/experiments/chromium-command-line-switches/"
   ]
  },
  {
   "cell_type": "code",
   "execution_count": 2,
   "metadata": {},
   "outputs": [],
   "source": [
    "chrome_options = Options()\n",
    "\n",
    "# start browser in background,either way you can remove this to show browser in action\n",
    "# chrome_options.add_argument('--headless')\n",
    "\n",
    "# overcome limited resource problems\n",
    "chrome_options.add_argument('--disable-dev-shm-usage')\n",
    "\n",
    "# bypass OS security model\n",
    "chrome_options.add_argument('--no-sandbox')\n",
    "\n",
    "# open Browser in maximized mode\n",
    "chrome_options.add_argument(\"--start-maximized\")\n",
    "\n",
    "# open Browser in specified resolution as when in headless mode,\n",
    "# maximized window size may change causing 'NoSuchElementException'\n",
    "chrome_options.add_argument(\"--window-size=1920,1080\")\n",
    "\n",
    "# to ignore security problems\n",
    "chrome_options.add_argument('--ignore-certificate-errors')\n",
    "chrome_options.add_argument('--allow-running-insecure-content')\n"
   ]
  },
  {
   "cell_type": "markdown",
   "metadata": {},
   "source": [
    ">- Download the latest web driver, it should be present in the same directory or added globally\n",
    "- URL: https://chromedriver.chromium.org/downloads"
   ]
  },
  {
   "cell_type": "code",
   "execution_count": 3,
   "metadata": {},
   "outputs": [],
   "source": [
    "url = 'https://store.steampowered.com/'\n",
    "driver = webdriver.Chrome(options=chrome_options)\n",
    "driver.maximize_window()\n",
    "driver.get(url)\n"
   ]
  },
  {
   "cell_type": "code",
   "execution_count": 4,
   "metadata": {},
   "outputs": [
    {
     "data": {
      "text/plain": [
       "True"
      ]
     },
     "execution_count": 4,
     "metadata": {},
     "output_type": "execute_result"
    }
   ],
   "source": [
    "#when in headless this can be used to view the browser window as imaged file\n",
    "driver.get_screenshot_as_file(\"screenshot.png\")\n"
   ]
  },
  {
   "cell_type": "markdown",
   "metadata": {},
   "source": [
    "### Finding and Intracting with element using Selenium"
   ]
  },
  {
   "cell_type": "code",
   "execution_count": 5,
   "metadata": {},
   "outputs": [],
   "source": [
    "# select and click top sellers option\n",
    "driver.find_element_by_xpath(\n",
    "    '/html/body/div[1]/div[7]/div[5]/div[1]/div[1]/div/div[1]/div[8]/a[1]').click()\n",
    "\n",
    "# get html document\n",
    "html_text = driver.page_source\n"
   ]
  },
  {
   "cell_type": "code",
   "execution_count": 6,
   "metadata": {},
   "outputs": [],
   "source": [
    "def start_driver():\n",
    "    # initializing the chrome driver\n",
    "    print('Starting chrome web driver')\n",
    "\n",
    "    chrome_options = Options()\n",
    "    chrome_options.add_argument('--headless')\n",
    "    chrome_options.add_argument('--disable-dev-shm-usage')\n",
    "    chrome_options.add_argument('--no-sandbox')\n",
    "    chrome_options.add_argument(\"--start-maximized\")\n",
    "    chrome_options.add_argument(\"--window-size=1920,1080\")\n",
    "    chrome_options.add_argument('--ignore-certificate-errors')\n",
    "    chrome_options.add_argument('--allow-running-insecure-content')\n",
    "\n",
    "    driver = webdriver.Chrome(options=chrome_options)\n",
    "\n",
    "    driver.get('https://store.steampowered.com/')  # opening browswer\n",
    "\n",
    "    driver.maximize_window()  # maximize to view top sellers options\n",
    "\n",
    "    print(driver.title)\n",
    "\n",
    "    driver.find_element_by_xpath(\n",
    "        '/html/body/div[1]/div[7]/div[5]/div[1]/div[1]/div/div[1]/div[8]/a[1]').click() # select and click top sellers option\n",
    "\n",
    "    scroll_page(driver)\n",
    "    html_text = driver.page_source  # get scrolled page contents\n",
    "\n",
    "    return html_text\n"
   ]
  },
  {
   "cell_type": "markdown",
   "metadata": {},
   "source": [
    "### Parsing Info using BeautifulSoup\n",
    ">- We have the html document, let's convert it to BeautifulSoup object to parse the required info\n",
    ">- To extract information from an html document, first convert the html text to a BeautifulSoup object then use find or find_all method to get required information\n",
    ">- find() method returns first occurence of element specified, empty string if not found\n",
    ">- find_all() method returns list of all descendent elements specified, empty list if not found \n",
    ">- Attribute can also be used to find elements\n",
    "\n",
    "Refer : https://www.crummy.com/software/BeautifulSoup/bs4/doc/"
   ]
  },
  {
   "cell_type": "code",
   "execution_count": 7,
   "metadata": {},
   "outputs": [],
   "source": [
    "from bs4 import BeautifulSoup"
   ]
  },
  {
   "cell_type": "code",
   "execution_count": 8,
   "metadata": {},
   "outputs": [],
   "source": [
    "doc = BeautifulSoup(html_text)\n",
    "titles_a_tags = doc.find('div',attrs={'id':'search_resultsRows'}).find_all('a')"
   ]
  },
  {
   "cell_type": "code",
   "execution_count": 9,
   "metadata": {},
   "outputs": [
    {
     "data": {
      "text/plain": [
       "50"
      ]
     },
     "execution_count": 9,
     "metadata": {},
     "output_type": "execute_result"
    }
   ],
   "source": [
    "len(titles_a_tags)"
   ]
  },
  {
   "cell_type": "markdown",
   "metadata": {},
   "source": [
    ">- The page contains over 25k titles but we got only 50, because we need to scroll down to reveal as many titles as you wish to see from those 25k titles"
   ]
  },
  {
   "cell_type": "code",
   "execution_count": 10,
   "metadata": {},
   "outputs": [],
   "source": [
    "import time\n",
    "SCROLL_PAUSE_TIME = 0.5\n",
    "\n",
    "# Get scroll height\n",
    "last_height = driver.execute_script(\"return document.body.scrollHeight\")\n",
    "\n",
    "#scroll for 20 seconds\n",
    "scroll_time = 20\n",
    "time_end = time.time() + scroll_time\n",
    "while True and time.time() < time_end:\n",
    "    # Scroll down to bottom\n",
    "    driver.execute_script(\n",
    "         \"window.scrollTo(0, document.body.scrollHeight);\")\n",
    "\n",
    "     # Wait to load page\n",
    "    time.sleep(SCROLL_PAUSE_TIME)\n",
    "\n",
    "      # Calculate new scroll height and compare with last scroll height\n",
    "    new_height = driver.execute_script(\"return document.body.scrollHeight\")\n",
    "    if new_height == last_height:\n",
    "        break\n",
    "    last_height = new_height\n"
   ]
  },
  {
   "cell_type": "code",
   "execution_count": 11,
   "metadata": {},
   "outputs": [
    {
     "data": {
      "text/plain": [
       "1200"
      ]
     },
     "execution_count": 11,
     "metadata": {},
     "output_type": "execute_result"
    }
   ],
   "source": [
    "html_text = driver.page_source\n",
    "doc = BeautifulSoup(html_text)\n",
    "titles_a_tags = doc.find('div',attrs={'id':'search_resultsRows'}).find_all('a')\n",
    "len(titles_a_tags)"
   ]
  },
  {
   "cell_type": "markdown",
   "metadata": {},
   "source": [
    ">- Let's also keep converting the code we wrote to a helper functions with exception handling to easily process all the titles "
   ]
  },
  {
   "cell_type": "code",
   "execution_count": 12,
   "metadata": {},
   "outputs": [],
   "source": [
    "def scroll_page(driver):\n",
    "    print('Scrolling webpage')\n",
    "    SCROLL_PAUSE_TIME = 0.5\n",
    "\n",
    "    # Get scroll height\n",
    "    last_height = driver.execute_script(\"return document.body.scrollHeight\")\n",
    "\n",
    "    # scroll for 20 seconds\n",
    "    time_end = time.time() + 20\n",
    "    while True and time.time() < time_end:\n",
    "        # Scroll down to bottom\n",
    "        driver.execute_script(\n",
    "            \"window.scrollTo(0, document.body.scrollHeight);\")\n",
    "\n",
    "        # Wait to load page\n",
    "        time.sleep(SCROLL_PAUSE_TIME)\n",
    "\n",
    "        # Calculate new scroll height and compare with last scroll height\n",
    "        new_height = driver.execute_script(\"return document.body.scrollHeight\")\n",
    "        if new_height == last_height:\n",
    "            break\n",
    "        last_height = new_height\n"
   ]
  },
  {
   "cell_type": "markdown",
   "metadata": {},
   "source": [
    ">- We were able to grab 1k+ title after scrolling for 20 seconds, let's parse the 50 titles then we do the same for other titles"
   ]
  },
  {
   "cell_type": "code",
   "execution_count": 13,
   "metadata": {},
   "outputs": [
    {
     "data": {
      "text/plain": [
       "<a class=\"search_result_row ds_collapse_flag app_impression_tracked\" data-ds-appid=\"1245620\" data-ds-crtrids=\"[33042543]\" data-ds-descids=\"[2,5]\" data-ds-itemkey=\"App_1245620\" data-ds-steam-deck-compat-handled=\"true\" data-ds-tagids=\"[29482,4604,122,4026,4231,1697,1654]\" data-gpnav=\"item\" href=\"https://store.steampowered.com/app/1245620/ELDEN_RING/?snr=1_7_7_7000_150_1\" onmouseout=\"HideGameHover( this, event, 'global_hover' )\" onmouseover=\"GameHover( this, event, 'global_hover', {&quot;type&quot;:&quot;app&quot;,&quot;id&quot;:1245620,&quot;public&quot;:1,&quot;v6&quot;:1} );\">\n",
       "<div class=\"col search_capsule\"><img src=\"https://cdn.akamai.steamstatic.com/steam/apps/1245620/capsule_sm_120.jpg?t=1645600407\" srcset=\"https://cdn.akamai.steamstatic.com/steam/apps/1245620/capsule_sm_120.jpg?t=1645600407 1x, https://cdn.akamai.steamstatic.com/steam/apps/1245620/capsule_231x87.jpg?t=1645600407 2x\"/></div>\n",
       "<div class=\"responsive_search_name_combined\">\n",
       "<div class=\"col search_name ellipsis\">\n",
       "<span class=\"title\">ELDEN RING</span>\n",
       "<div>\n",
       "<span class=\"platform_img win\"></span> </div>\n",
       "</div>\n",
       "<div class=\"col search_released responsive_secondrow\">25 Feb, 2022</div>\n",
       "<div class=\"col search_reviewscore responsive_secondrow\">\n",
       "</div>\n",
       "<div class=\"col search_price_discount_combined responsive_secondrow\" data-price-final=\"249900\">\n",
       "<div class=\"col search_discount responsive_secondrow\">\n",
       "</div>\n",
       "<div class=\"col search_price responsive_secondrow\">\n",
       "                        ₹ 2,499                    </div>\n",
       "</div>\n",
       "</div>\n",
       "<div style=\"clear: left;\"></div>\n",
       "</a>"
      ]
     },
     "execution_count": 13,
     "metadata": {},
     "output_type": "execute_result"
    }
   ],
   "source": [
    "titles_a_tags[0]"
   ]
  },
  {
   "cell_type": "markdown",
   "metadata": {},
   "source": [
    ">- Using inspect option, we can find the corresponding attributes like class,id etc through which we can we find the element"
   ]
  },
  {
   "cell_type": "code",
   "execution_count": 14,
   "metadata": {},
   "outputs": [
    {
     "data": {
      "text/plain": [
       "'ELDEN RING'"
      ]
     },
     "execution_count": 14,
     "metadata": {},
     "output_type": "execute_result"
    }
   ],
   "source": [
    "#using text to grab only the text in between the tags and strip() to remove white spaces(tabs, newline, spaces etc)\n",
    "title_name = titles_a_tags[0].find('span', class_='title').text.strip() \n",
    "title_name"
   ]
  },
  {
   "cell_type": "code",
   "execution_count": 15,
   "metadata": {},
   "outputs": [
    {
     "data": {
      "text/plain": [
       "'25 Feb 2022'"
      ]
     },
     "execution_count": 15,
     "metadata": {},
     "output_type": "execute_result"
    }
   ],
   "source": [
    "title_date = titles_a_tags[0].find(\n",
    "    'div', class_='col search_released responsive_secondrow').text.strip().split(',')\n",
    "title_date = title_date[0] + title_date[-1]\n",
    "title_date\n"
   ]
  },
  {
   "cell_type": "code",
   "execution_count": 16,
   "metadata": {},
   "outputs": [
    {
     "data": {
      "text/plain": [
       "2499.0"
      ]
     },
     "execution_count": 16,
     "metadata": {},
     "output_type": "execute_result"
    }
   ],
   "source": [
    "title_price = titles_a_tags[0].find(\n",
    "           'div', class_='col search_price responsive_secondrow')\n",
    "if not title_price:\n",
    "            # find price latest price with discount\n",
    "    title_price = titles_a_tags[0].find(\n",
    "                'div', class_='col search_price discounted responsive_secondrow')\n",
    "#title_price = title_price.text.split('₹')[-1].strip()\n",
    "title_price = title_price.text.strip()\n",
    "price =  [ i  for i in title_price if i.isalnum()]\n",
    "title_price = float(''.join(price))\n",
    "title_price"
   ]
  },
  {
   "cell_type": "code",
   "execution_count": 17,
   "metadata": {},
   "outputs": [
    {
     "name": "stdout",
     "output_type": "stream",
     "text": [
      "Title Name: ELDEN RING\n",
      "Title price: 2499.0\n",
      "Title date: 25 Feb 2022\n"
     ]
    }
   ],
   "source": [
    "print('Title Name:',title_name)\n",
    "print('Title price:',title_price)\n",
    "print('Title date:',title_date)"
   ]
  },
  {
   "cell_type": "code",
   "execution_count": 18,
   "metadata": {},
   "outputs": [],
   "source": [
    "def parse_game_titles(title):\n",
    "    '''\n",
    "    Funtion to parse a tags to get Name,date,price\n",
    "    '''\n",
    "    try:\n",
    "        title_name = title.find('span', class_='title').text.strip()\n",
    "\n",
    "        print('Parsing Game title: {}'.format(title_name))\n",
    "\n",
    "        title_date = title.find(\n",
    "            'div', class_='col search_released responsive_secondrow').text.strip().split(',')\n",
    "        title_date = title_date[0] + title_date[-1]\n",
    "\n",
    "        # find price without discount\n",
    "        title_price = title.find(\n",
    "            'div', class_='col search_price responsive_secondrow')\n",
    "        if not title_price:\n",
    "            # find price latest price with discount\n",
    "            title_price = title.find(\n",
    "                'div', class_='col search_price discounted responsive_secondrow')\n",
    "        title_price = title_price.text.split()[-1]\n",
    "        #title_price = title_price.text.strip()\n",
    "        price = [i for i in title_price if i.isalnum()]\n",
    "        title_price = float(''.join(price))\n",
    "        title_price\n",
    "\n",
    "    except:\n",
    "        title_name, title_date, title_price = 'NA', 'NA', 'NA'\n",
    "\n",
    "    return {\n",
    "        'title_name': '\"' + str(title_name) + '\"',\n",
    "        'realease_date': '\"' + str(title_date) + '\"',\n",
    "        'price': '\"' + str(title_price) + '\"'\n",
    "    }\n"
   ]
  },
  {
   "cell_type": "code",
   "execution_count": 19,
   "metadata": {},
   "outputs": [
    {
     "name": "stdout",
     "output_type": "stream",
     "text": [
      "Parsing Game title: God of War\n"
     ]
    },
    {
     "data": {
      "text/plain": [
       "{'title_name': '\"God of War\"',\n",
       " 'realease_date': '\"14 Jan 2022\"',\n",
       " 'price': '\"3299.0\"'}"
      ]
     },
     "execution_count": 19,
     "metadata": {},
     "output_type": "execute_result"
    }
   ],
   "source": [
    "parse_game_titles(titles_a_tags[32])\n"
   ]
  },
  {
   "cell_type": "markdown",
   "metadata": {},
   "source": [
    ">- Great, we got the details from the titles page, let's try to grab more details for individual titles\n",
    ">- To do that one approach one can try we can go to invidual title then get it's 'href' attribute, then use requests to go to that 'href' which is basically a link\n",
    ">- Once we are the title's page we can inspect and grab the info we need we will grab title description,developer,publisher,review, rating and tags related to that game title\n",
    ">- This process of going from one page to another is called *Crawling*,  there are others tools like spider to do so we will do a simple crawling with requests"
   ]
  },
  {
   "cell_type": "code",
   "execution_count": 20,
   "metadata": {},
   "outputs": [],
   "source": [
    "#to grab a attribute's value we can use ['attribute_name'] to specify attribute as key and get it's value\n",
    "href = titles_a_tags[0]['href']"
   ]
  },
  {
   "cell_type": "markdown",
   "metadata": {},
   "source": [
    "### Using requests to get the page"
   ]
  },
  {
   "cell_type": "code",
   "execution_count": 21,
   "metadata": {},
   "outputs": [],
   "source": [
    "import requests"
   ]
  },
  {
   "cell_type": "code",
   "execution_count": 22,
   "metadata": {},
   "outputs": [
    {
     "name": "stdout",
     "output_type": "stream",
     "text": [
      "200\n"
     ]
    }
   ],
   "source": [
    "response = requests.get(href)\n",
    "print(response.status_code) #checking status code\n"
   ]
  },
  {
   "cell_type": "markdown",
   "metadata": {},
   "source": [
    ">- With requests we can perform any http method call like get,post,put,patch etc\n",
    ">- Requests can also be used to call APIs, to pass api keys and to do other authentications\n",
    ">- Each request returns a status code stating weather the call was successful( mostly begins with 2) or unsuccessful(begins with 4 mostly)\n",
    "\n",
    "- Status Codes\n",
    ">- Informational responses (100–199)\n",
    ">- Successful responses (200–299)\n",
    ">- Redirection messages (300–399)\n",
    ">- Client error responses (400–499)\n",
    ">- Server error responses (500–599)\n",
    "\n",
    "Refer : https://developer.mozilla.org/en-US/docs/Web/HTTP/Status "
   ]
  },
  {
   "cell_type": "code",
   "execution_count": 23,
   "metadata": {},
   "outputs": [],
   "source": [
    "#response.text to get html document\n",
    "doc = BeautifulSoup(response.text)"
   ]
  },
  {
   "cell_type": "code",
   "execution_count": 24,
   "metadata": {},
   "outputs": [
    {
     "data": {
      "text/plain": [
       "'THE NEW FANTASY ACTION RPG. Rise, Tarnished, and be guided by grace to brandish the power of the Elden Ring and become an Elden Lord in the Lands Between.'"
      ]
     },
     "execution_count": 24,
     "metadata": {},
     "output_type": "execute_result"
    }
   ],
   "source": [
    "title_descp = doc.find(\n",
    "    'div', class_='game_description_snippet').text.strip()\n",
    "title_descp\n"
   ]
  },
  {
   "cell_type": "code",
   "execution_count": 25,
   "metadata": {},
   "outputs": [
    {
     "data": {
      "text/plain": [
       "<div class=\"summary column\">\n",
       "\t\t\t\t\t\t\t\t\t\t\t\t\t\t\t\t\t\t\t\t\tNo user reviews\t\t\t\t\t\t\t\t\t\t\t\t\t\t\t\t\t\t\t\t</div>"
      ]
     },
     "execution_count": 25,
     "metadata": {},
     "output_type": "execute_result"
    }
   ],
   "source": [
    "title_review = doc.find('div', 'summary column')\n",
    "title_review\n"
   ]
  },
  {
   "cell_type": "code",
   "execution_count": 26,
   "metadata": {},
   "outputs": [
    {
     "data": {
      "text/plain": [
       "['', 'No user reviews']"
      ]
     },
     "execution_count": 26,
     "metadata": {},
     "output_type": "execute_result"
    }
   ],
   "source": [
    "title_review = list(map(lambda x: x.strip(), title_review.text.split('\\n')))\n",
    "title_review\n"
   ]
  },
  {
   "cell_type": "code",
   "execution_count": 27,
   "metadata": {},
   "outputs": [
    {
     "data": {
      "text/plain": [
       "['No user reviews']"
      ]
     },
     "execution_count": 27,
     "metadata": {},
     "output_type": "execute_result"
    }
   ],
   "source": [
    "title_review = [tag for tag in title_review if tag]\n",
    "title_review\n"
   ]
  },
  {
   "cell_type": "code",
   "execution_count": 28,
   "metadata": {},
   "outputs": [
    {
     "data": {
      "text/plain": [
       "0"
      ]
     },
     "execution_count": 28,
     "metadata": {},
     "output_type": "execute_result"
    }
   ],
   "source": [
    "if len(title_review) != 1:\n",
    "        title_review, title_rating = title_review[:2]\n",
    "else:\n",
    "        title_rating = 0\n",
    "title_rating\n"
   ]
  },
  {
   "cell_type": "code",
   "execution_count": 29,
   "metadata": {},
   "outputs": [
    {
     "data": {
      "text/plain": [
       "<div class=\"dev_row\">\n",
       "<div class=\"subtitle column\">Developer:</div>\n",
       "<div class=\"summary column\" id=\"developers_list\">\n",
       "<a href=\"https://store.steampowered.com/developer/BANDAINAMCO?snr=1_5_9__2000\">FromSoftware Inc.</a> </div>\n",
       "</div>"
      ]
     },
     "execution_count": 29,
     "metadata": {},
     "output_type": "execute_result"
    }
   ],
   "source": [
    "developer = doc.find('div', class_='dev_row')\n",
    "developer\n"
   ]
  },
  {
   "cell_type": "code",
   "execution_count": 30,
   "metadata": {},
   "outputs": [
    {
     "data": {
      "text/plain": [
       "'FromSoftware'"
      ]
     },
     "execution_count": 30,
     "metadata": {},
     "output_type": "execute_result"
    }
   ],
   "source": [
    "developer = developer.text.strip().split()[1]\n",
    "developer\n"
   ]
  },
  {
   "cell_type": "code",
   "execution_count": 31,
   "metadata": {},
   "outputs": [
    {
     "data": {
      "text/plain": [
       "<div class=\"dev_row\">\n",
       "<div class=\"subtitle column\">Publisher:</div>\n",
       "<div class=\"summary column\">\n",
       "<a href=\"https://store.steampowered.com/publisher/BANDAINAMCO?snr=1_5_9__2000\">FromSoftware Inc.</a>, <a href=\"https://store.steampowered.com/publisher/BANDAINAMCO?snr=1_5_9__2000\">BANDAI NAMCO Entertainment</a> </div>\n",
       "</div>"
      ]
     },
     "execution_count": 31,
     "metadata": {},
     "output_type": "execute_result"
    }
   ],
   "source": [
    "publisher = doc.find('div', class_='dev_row').find_next_sibling()\n",
    "publisher\n"
   ]
  },
  {
   "cell_type": "code",
   "execution_count": 32,
   "metadata": {},
   "outputs": [],
   "source": [
    "publisher = publisher.text.strip().split()[1:]\n"
   ]
  },
  {
   "cell_type": "code",
   "execution_count": 33,
   "metadata": {},
   "outputs": [
    {
     "data": {
      "text/plain": [
       "'FromSoftware Inc., BANDAI NAMCO Entertainment'"
      ]
     },
     "execution_count": 33,
     "metadata": {},
     "output_type": "execute_result"
    }
   ],
   "source": [
    "publisher = ' '.join(publisher)\n",
    "publisher\n"
   ]
  },
  {
   "cell_type": "code",
   "execution_count": 34,
   "metadata": {},
   "outputs": [
    {
     "data": {
      "text/plain": [
       "<div class=\"glance_tags popular_tags\" data-appid=\"1245620\" data-panel='{\"flow-children\":\"row\"}'>\n",
       "<a class=\"app_tag\" href=\"https://store.steampowered.com/tags/en/Souls-like/?snr=1_5_9__409\" style=\"display: none;\">\n",
       "\t\t\t\t\t\t\t\t\t\t\t\tSouls-like\t\t\t\t\t\t\t\t\t\t\t\t</a><a class=\"app_tag\" href=\"https://store.steampowered.com/tags/en/Dark%20Fantasy/?snr=1_5_9__409\" style=\"display: none;\">\n",
       "\t\t\t\t\t\t\t\t\t\t\t\tDark Fantasy\t\t\t\t\t\t\t\t\t\t\t\t</a><a class=\"app_tag\" href=\"https://store.steampowered.com/tags/en/RPG/?snr=1_5_9__409\" style=\"display: none;\">\n",
       "\t\t\t\t\t\t\t\t\t\t\t\tRPG\t\t\t\t\t\t\t\t\t\t\t\t</a><a class=\"app_tag\" href=\"https://store.steampowered.com/tags/en/Difficult/?snr=1_5_9__409\" style=\"display: none;\">\n",
       "\t\t\t\t\t\t\t\t\t\t\t\tDifficult\t\t\t\t\t\t\t\t\t\t\t\t</a><a class=\"app_tag\" href=\"https://store.steampowered.com/tags/en/Action%20RPG/?snr=1_5_9__409\" style=\"display: none;\">\n",
       "\t\t\t\t\t\t\t\t\t\t\t\tAction RPG\t\t\t\t\t\t\t\t\t\t\t\t</a><a class=\"app_tag\" href=\"https://store.steampowered.com/tags/en/Third%20Person/?snr=1_5_9__409\" style=\"display: none;\">\n",
       "\t\t\t\t\t\t\t\t\t\t\t\tThird Person\t\t\t\t\t\t\t\t\t\t\t\t</a><a class=\"app_tag\" href=\"https://store.steampowered.com/tags/en/Relaxing/?snr=1_5_9__409\" style=\"display: none;\">\n",
       "\t\t\t\t\t\t\t\t\t\t\t\tRelaxing\t\t\t\t\t\t\t\t\t\t\t\t</a><a class=\"app_tag\" href=\"https://store.steampowered.com/tags/en/Action/?snr=1_5_9__409\" style=\"display: none;\">\n",
       "\t\t\t\t\t\t\t\t\t\t\t\tAction\t\t\t\t\t\t\t\t\t\t\t\t</a><a class=\"app_tag\" href=\"https://store.steampowered.com/tags/en/Fantasy/?snr=1_5_9__409\" style=\"display: none;\">\n",
       "\t\t\t\t\t\t\t\t\t\t\t\tFantasy\t\t\t\t\t\t\t\t\t\t\t\t</a><a class=\"app_tag\" href=\"https://store.steampowered.com/tags/en/Online%20Co-Op/?snr=1_5_9__409\" style=\"display: none;\">\n",
       "\t\t\t\t\t\t\t\t\t\t\t\tOnline Co-Op\t\t\t\t\t\t\t\t\t\t\t\t</a><a class=\"app_tag\" href=\"https://store.steampowered.com/tags/en/Multiplayer/?snr=1_5_9__409\" style=\"display: none;\">\n",
       "\t\t\t\t\t\t\t\t\t\t\t\tMultiplayer\t\t\t\t\t\t\t\t\t\t\t\t</a><a class=\"app_tag\" href=\"https://store.steampowered.com/tags/en/Singleplayer/?snr=1_5_9__409\" style=\"display: none;\">\n",
       "\t\t\t\t\t\t\t\t\t\t\t\tSingleplayer\t\t\t\t\t\t\t\t\t\t\t\t</a><a class=\"app_tag\" href=\"https://store.steampowered.com/tags/en/Co-op/?snr=1_5_9__409\" style=\"display: none;\">\n",
       "\t\t\t\t\t\t\t\t\t\t\t\tCo-op\t\t\t\t\t\t\t\t\t\t\t\t</a><a class=\"app_tag\" href=\"https://store.steampowered.com/tags/en/PvP/?snr=1_5_9__409\" style=\"display: none;\">\n",
       "\t\t\t\t\t\t\t\t\t\t\t\tPvP\t\t\t\t\t\t\t\t\t\t\t\t</a><a class=\"app_tag\" href=\"https://store.steampowered.com/tags/en/Violent/?snr=1_5_9__409\" style=\"display: none;\">\n",
       "\t\t\t\t\t\t\t\t\t\t\t\tViolent\t\t\t\t\t\t\t\t\t\t\t\t</a><a class=\"app_tag\" href=\"https://store.steampowered.com/tags/en/3D/?snr=1_5_9__409\" style=\"display: none;\">\n",
       "\t\t\t\t\t\t\t\t\t\t\t\t3D\t\t\t\t\t\t\t\t\t\t\t\t</a><a class=\"app_tag\" href=\"https://store.steampowered.com/tags/en/Open%20World/?snr=1_5_9__409\" style=\"display: none;\">\n",
       "\t\t\t\t\t\t\t\t\t\t\t\tOpen World\t\t\t\t\t\t\t\t\t\t\t\t</a><a class=\"app_tag\" href=\"https://store.steampowered.com/tags/en/Great%20Soundtrack/?snr=1_5_9__409\" style=\"display: none;\">\n",
       "\t\t\t\t\t\t\t\t\t\t\t\tGreat Soundtrack\t\t\t\t\t\t\t\t\t\t\t\t</a><a class=\"app_tag\" href=\"https://store.steampowered.com/tags/en/Atmospheric/?snr=1_5_9__409\" style=\"display: none;\">\n",
       "\t\t\t\t\t\t\t\t\t\t\t\tAtmospheric\t\t\t\t\t\t\t\t\t\t\t\t</a><a class=\"app_tag\" href=\"https://store.steampowered.com/tags/en/Walking%20Simulator/?snr=1_5_9__409\" style=\"display: none;\">\n",
       "\t\t\t\t\t\t\t\t\t\t\t\tWalking Simulator\t\t\t\t\t\t\t\t\t\t\t\t</a><div class=\"app_tag add_button\" data-panel='{\"focusable\":true,\"clickOnActivate\":true}' onclick=\"ShowAppTagModal( 1245620 )\">+</div>\n",
       "</div>"
      ]
     },
     "execution_count": 34,
     "metadata": {},
     "output_type": "execute_result"
    }
   ],
   "source": [
    "title_tags = doc.find('div', class_='glance_tags popular_tags')\n",
    "title_tags\n"
   ]
  },
  {
   "cell_type": "code",
   "execution_count": 35,
   "metadata": {},
   "outputs": [
    {
     "data": {
      "text/plain": [
       "['',\n",
       " '',\n",
       " '',\n",
       " '',\n",
       " '',\n",
       " '',\n",
       " '',\n",
       " '',\n",
       " '',\n",
       " '',\n",
       " '',\n",
       " '',\n",
       " 'Souls-like',\n",
       " '',\n",
       " '',\n",
       " '',\n",
       " '',\n",
       " '',\n",
       " '',\n",
       " '',\n",
       " '',\n",
       " '',\n",
       " '',\n",
       " '',\n",
       " '',\n",
       " '',\n",
       " '',\n",
       " '',\n",
       " '',\n",
       " '',\n",
       " '',\n",
       " '',\n",
       " '',\n",
       " '',\n",
       " '',\n",
       " '',\n",
       " 'Dark Fantasy',\n",
       " '',\n",
       " '',\n",
       " '',\n",
       " '',\n",
       " '',\n",
       " '',\n",
       " '',\n",
       " '',\n",
       " '',\n",
       " '',\n",
       " '',\n",
       " '',\n",
       " '',\n",
       " '',\n",
       " '',\n",
       " '',\n",
       " '',\n",
       " '',\n",
       " '',\n",
       " '',\n",
       " '',\n",
       " '',\n",
       " '',\n",
       " 'RPG',\n",
       " '',\n",
       " '',\n",
       " '',\n",
       " '',\n",
       " '',\n",
       " '',\n",
       " '',\n",
       " '',\n",
       " '',\n",
       " '',\n",
       " '',\n",
       " '',\n",
       " '',\n",
       " '',\n",
       " '',\n",
       " '',\n",
       " '',\n",
       " '',\n",
       " '',\n",
       " '',\n",
       " '',\n",
       " '',\n",
       " '',\n",
       " 'Difficult',\n",
       " '',\n",
       " '',\n",
       " '',\n",
       " '',\n",
       " '',\n",
       " '',\n",
       " '',\n",
       " '',\n",
       " '',\n",
       " '',\n",
       " '',\n",
       " '',\n",
       " '',\n",
       " '',\n",
       " '',\n",
       " '',\n",
       " '',\n",
       " '',\n",
       " '',\n",
       " '',\n",
       " '',\n",
       " '',\n",
       " '',\n",
       " 'Action RPG',\n",
       " '',\n",
       " '',\n",
       " '',\n",
       " '',\n",
       " '',\n",
       " '',\n",
       " '',\n",
       " '',\n",
       " '',\n",
       " '',\n",
       " '',\n",
       " '',\n",
       " '',\n",
       " '',\n",
       " '',\n",
       " '',\n",
       " '',\n",
       " '',\n",
       " '',\n",
       " '',\n",
       " '',\n",
       " '',\n",
       " '',\n",
       " 'Third Person',\n",
       " '',\n",
       " '',\n",
       " '',\n",
       " '',\n",
       " '',\n",
       " '',\n",
       " '',\n",
       " '',\n",
       " '',\n",
       " '',\n",
       " '',\n",
       " '',\n",
       " '',\n",
       " '',\n",
       " '',\n",
       " '',\n",
       " '',\n",
       " '',\n",
       " '',\n",
       " '',\n",
       " '',\n",
       " '',\n",
       " '',\n",
       " 'Relaxing',\n",
       " '',\n",
       " '',\n",
       " '',\n",
       " '',\n",
       " '',\n",
       " '',\n",
       " '',\n",
       " '',\n",
       " '',\n",
       " '',\n",
       " '',\n",
       " '',\n",
       " '',\n",
       " '',\n",
       " '',\n",
       " '',\n",
       " '',\n",
       " '',\n",
       " '',\n",
       " '',\n",
       " '',\n",
       " '',\n",
       " '',\n",
       " 'Action',\n",
       " '',\n",
       " '',\n",
       " '',\n",
       " '',\n",
       " '',\n",
       " '',\n",
       " '',\n",
       " '',\n",
       " '',\n",
       " '',\n",
       " '',\n",
       " '',\n",
       " '',\n",
       " '',\n",
       " '',\n",
       " '',\n",
       " '',\n",
       " '',\n",
       " '',\n",
       " '',\n",
       " '',\n",
       " '',\n",
       " '',\n",
       " 'Fantasy',\n",
       " '',\n",
       " '',\n",
       " '',\n",
       " '',\n",
       " '',\n",
       " '',\n",
       " '',\n",
       " '',\n",
       " '',\n",
       " '',\n",
       " '',\n",
       " '',\n",
       " '',\n",
       " '',\n",
       " '',\n",
       " '',\n",
       " '',\n",
       " '',\n",
       " '',\n",
       " '',\n",
       " '',\n",
       " '',\n",
       " '',\n",
       " 'Online Co-Op',\n",
       " '',\n",
       " '',\n",
       " '',\n",
       " '',\n",
       " '',\n",
       " '',\n",
       " '',\n",
       " '',\n",
       " '',\n",
       " '',\n",
       " '',\n",
       " '',\n",
       " '',\n",
       " '',\n",
       " '',\n",
       " '',\n",
       " '',\n",
       " '',\n",
       " '',\n",
       " '',\n",
       " '',\n",
       " '',\n",
       " '',\n",
       " 'Multiplayer',\n",
       " '',\n",
       " '',\n",
       " '',\n",
       " '',\n",
       " '',\n",
       " '',\n",
       " '',\n",
       " '',\n",
       " '',\n",
       " '',\n",
       " '',\n",
       " '',\n",
       " '',\n",
       " '',\n",
       " '',\n",
       " '',\n",
       " '',\n",
       " '',\n",
       " '',\n",
       " '',\n",
       " '',\n",
       " '',\n",
       " '',\n",
       " 'Singleplayer',\n",
       " '',\n",
       " '',\n",
       " '',\n",
       " '',\n",
       " '',\n",
       " '',\n",
       " '',\n",
       " '',\n",
       " '',\n",
       " '',\n",
       " '',\n",
       " '',\n",
       " '',\n",
       " '',\n",
       " '',\n",
       " '',\n",
       " '',\n",
       " '',\n",
       " '',\n",
       " '',\n",
       " '',\n",
       " '',\n",
       " '',\n",
       " 'Co-op',\n",
       " '',\n",
       " '',\n",
       " '',\n",
       " '',\n",
       " '',\n",
       " '',\n",
       " '',\n",
       " '',\n",
       " '',\n",
       " '',\n",
       " '',\n",
       " '',\n",
       " '',\n",
       " '',\n",
       " '',\n",
       " '',\n",
       " '',\n",
       " '',\n",
       " '',\n",
       " '',\n",
       " '',\n",
       " '',\n",
       " '',\n",
       " 'PvP',\n",
       " '',\n",
       " '',\n",
       " '',\n",
       " '',\n",
       " '',\n",
       " '',\n",
       " '',\n",
       " '',\n",
       " '',\n",
       " '',\n",
       " '',\n",
       " '',\n",
       " '',\n",
       " '',\n",
       " '',\n",
       " '',\n",
       " '',\n",
       " '',\n",
       " '',\n",
       " '',\n",
       " '',\n",
       " '',\n",
       " '',\n",
       " 'Violent',\n",
       " '',\n",
       " '',\n",
       " '',\n",
       " '',\n",
       " '',\n",
       " '',\n",
       " '',\n",
       " '',\n",
       " '',\n",
       " '',\n",
       " '',\n",
       " '',\n",
       " '',\n",
       " '',\n",
       " '',\n",
       " '',\n",
       " '',\n",
       " '',\n",
       " '',\n",
       " '',\n",
       " '',\n",
       " '',\n",
       " '',\n",
       " '3D',\n",
       " '',\n",
       " '',\n",
       " '',\n",
       " '',\n",
       " '',\n",
       " '',\n",
       " '',\n",
       " '',\n",
       " '',\n",
       " '',\n",
       " '',\n",
       " '',\n",
       " '',\n",
       " '',\n",
       " '',\n",
       " '',\n",
       " '',\n",
       " '',\n",
       " '',\n",
       " '',\n",
       " '',\n",
       " '',\n",
       " '',\n",
       " 'Open World',\n",
       " '',\n",
       " '',\n",
       " '',\n",
       " '',\n",
       " '',\n",
       " '',\n",
       " '',\n",
       " '',\n",
       " '',\n",
       " '',\n",
       " '',\n",
       " '',\n",
       " '',\n",
       " '',\n",
       " '',\n",
       " '',\n",
       " '',\n",
       " '',\n",
       " '',\n",
       " '',\n",
       " '',\n",
       " '',\n",
       " '',\n",
       " 'Great Soundtrack',\n",
       " '',\n",
       " '',\n",
       " '',\n",
       " '',\n",
       " '',\n",
       " '',\n",
       " '',\n",
       " '',\n",
       " '',\n",
       " '',\n",
       " '',\n",
       " '',\n",
       " '',\n",
       " '',\n",
       " '',\n",
       " '',\n",
       " '',\n",
       " '',\n",
       " '',\n",
       " '',\n",
       " '',\n",
       " '',\n",
       " '',\n",
       " 'Atmospheric',\n",
       " '',\n",
       " '',\n",
       " '',\n",
       " '',\n",
       " '',\n",
       " '',\n",
       " '',\n",
       " '',\n",
       " '',\n",
       " '',\n",
       " '',\n",
       " '',\n",
       " '',\n",
       " '',\n",
       " '',\n",
       " '',\n",
       " '',\n",
       " '',\n",
       " '',\n",
       " '',\n",
       " '',\n",
       " '',\n",
       " '',\n",
       " 'Walking Simulator',\n",
       " '',\n",
       " '',\n",
       " '',\n",
       " '',\n",
       " '',\n",
       " '',\n",
       " '',\n",
       " '',\n",
       " '',\n",
       " '',\n",
       " '',\n",
       " '+']"
      ]
     },
     "execution_count": 35,
     "metadata": {},
     "output_type": "execute_result"
    }
   ],
   "source": [
    "title_tags  = list(map(lambda x: x.strip(), title_tags.text.split('\\t')))\n",
    "title_tags\n"
   ]
  },
  {
   "cell_type": "code",
   "execution_count": 36,
   "metadata": {},
   "outputs": [
    {
     "data": {
      "text/plain": [
       "['Souls-like',\n",
       " 'Dark Fantasy',\n",
       " 'RPG',\n",
       " 'Difficult',\n",
       " 'Action RPG',\n",
       " 'Third Person',\n",
       " 'Relaxing',\n",
       " 'Action',\n",
       " 'Fantasy',\n",
       " 'Online Co-Op',\n",
       " 'Multiplayer',\n",
       " 'Singleplayer',\n",
       " 'Co-op',\n",
       " 'PvP',\n",
       " 'Violent',\n",
       " '3D',\n",
       " 'Open World',\n",
       " 'Great Soundtrack',\n",
       " 'Atmospheric',\n",
       " 'Walking Simulator',\n",
       " '+']"
      ]
     },
     "execution_count": 36,
     "metadata": {},
     "output_type": "execute_result"
    }
   ],
   "source": [
    "title_tags = [tag for tag in title_tags if tag]\n",
    "title_tags\n"
   ]
  },
  {
   "cell_type": "code",
   "execution_count": 37,
   "metadata": {},
   "outputs": [
    {
     "data": {
      "text/plain": [
       "'Souls-like,Dark Fantasy,RPG,Difficult,Action RPG,Third Person,Relaxing,Action,Fantasy,Online Co-Op,Multiplayer,Singleplayer,Co-op,PvP,Violent,3D,Open World,Great Soundtrack,Atmospheric,Walking Simulator,+'"
      ]
     },
     "execution_count": 37,
     "metadata": {},
     "output_type": "execute_result"
    }
   ],
   "source": [
    "title_tags = ','.join(title_tags)\n",
    "title_tags\n"
   ]
  },
  {
   "cell_type": "code",
   "execution_count": 38,
   "metadata": {},
   "outputs": [
    {
     "name": "stdout",
     "output_type": "stream",
     "text": [
      "Title's Description: THE NEW FANTASY ACTION RPG. Rise, Tarnished, and be guided by grace to brandish the power of the Elden Ring and become an Elden Lord in the Lands Between.\n",
      "Title's Review: ['No user reviews']\n",
      "Title's Rating: 0\n",
      "Title's Developer: FromSoftware\n",
      "Title's Publisher: FromSoftware Inc., BANDAI NAMCO Entertainment\n",
      "Title's Tags: Souls-like,Dark Fantasy,RPG,Difficult,Action RPG,Third Person,Relaxing,Action,Fantasy,Online Co-Op,Multiplayer,Singleplayer,Co-op,PvP,Violent,3D,Open World,Great Soundtrack,Atmospheric,Walking Simulator,+\n"
     ]
    }
   ],
   "source": [
    "print('Title\\'s Description:',title_descp)\n",
    "print('Title\\'s Review:',title_review)\n",
    "print('Title\\'s Rating:',title_rating)\n",
    "print('Title\\'s Developer:',developer)\n",
    "print('Title\\'s Publisher:',publisher)\n",
    "print('Title\\'s Tags:',title_tags)"
   ]
  },
  {
   "cell_type": "code",
   "execution_count": 39,
   "metadata": {},
   "outputs": [],
   "source": [
    "def clean_review_tags(tag_element, char):  # to parse reviews and game tags\n",
    "    tag_element = list(map(lambda x: x.strip(), tag_element.text.split(char)))\n",
    "    tag_element = [tag for tag in tag_element if tag]\n",
    "    return tag_element\n",
    "\n",
    "\n",
    "def parse_game_href(href):\n",
    "\n",
    "    doc = get_page(href)\n",
    "    print('Parsing Game titles\\'s \\'href:\\'{} '.format(doc.title.text))\n",
    "\n",
    "    try:\n",
    "        title_descp = doc.find(\n",
    "            'div', class_='game_description_snippet')\n",
    "\n",
    "        if title_descp:    \n",
    "            title_descp = title_descp.text.strip()\n",
    "\n",
    "        title_review = doc.find('div', 'summary column')\n",
    "        title_review = clean_review_tags(title_review, '\\n')\n",
    "\n",
    "        if len(title_review) != 1:\n",
    "            title_review, title_rating = title_review[:2]\n",
    "        else:\n",
    "            title_rating = 0\n",
    "\n",
    "        developer = doc.find('div', class_='dev_row')\n",
    "        developer = developer.text.strip().split()[1:]\n",
    "        developer = ' '.join(developer)\n",
    "\n",
    "\n",
    "        publisher = doc.find('div', class_='dev_row').find_next_sibling()\n",
    "        publisher = publisher.text.strip().split()[1:]\n",
    "        publisher = ' '.join(publisher)\n",
    "\n",
    "        title_tags = doc.find('div', class_='glance_tags popular_tags')\n",
    "        title_tags = clean_review_tags(title_tags, '\\t')\n",
    "        title_tags = ','.join(title_tags)\n",
    "\n",
    "    except Exception as a:\n",
    "        title_descp, title_review, title_rating, developer, publisher, title_tags = [\n",
    "            'NA']*6\n",
    "        print(a)\n",
    "\n",
    "    return {\n",
    "        'description': '\"' + str(title_descp) + '\"',\n",
    "        'title_review': '\"' + str(title_review) + '\"',\n",
    "        'title_rating': '\"' + str(title_rating) + '\"',\n",
    "        'developer': '\"' + str(developer) + '\"',\n",
    "        'publisher': '\"' + str(publisher) + '\"',\n",
    "        'game_tags': '\"' + str(title_tags) + '\"'\n",
    "    }\n"
   ]
  },
  {
   "cell_type": "code",
   "execution_count": 40,
   "metadata": {},
   "outputs": [],
   "source": [
    "def get_page(url):\n",
    "    response = requests.get(url)\n",
    "    if response.ok:\n",
    "        doc = BeautifulSoup(response.text, features='html.parser')\n",
    "    else:\n",
    "        print('Page Loading Failed!')\n",
    "        \n",
    "    return doc\n"
   ]
  },
  {
   "cell_type": "code",
   "execution_count": 41,
   "metadata": {},
   "outputs": [
    {
     "name": "stdout",
     "output_type": "stream",
     "text": [
      "Parsing Game titles's 'href:'Rust on Steam \n"
     ]
    },
    {
     "data": {
      "text/plain": [
       "{'description': '\"The only aim in Rust is to survive. Everything wants you to die - the island’s wildlife and other inhabitants, the environment, other survivors. Do whatever it takes to last another night.\"',\n",
       " 'title_review': '\"Very Positive\"',\n",
       " 'title_rating': '\"(14,830)\"',\n",
       " 'developer': '\"Facepunch Studios\"',\n",
       " 'publisher': '\"Facepunch Studios\"',\n",
       " 'game_tags': '\"Survival,Crafting,Multiplayer,Open World,Open World Survival Craft,Building,Sandbox,PvP,Adventure,First-Person,Action,FPS,Nudity,Co-op,Shooter,Online Co-Op,Indie,Early Access,Post-apocalyptic,Simulation,+\"'}"
      ]
     },
     "execution_count": 41,
     "metadata": {},
     "output_type": "execute_result"
    }
   ],
   "source": [
    "parse_game_href(titles_a_tags[45]['href'])"
   ]
  },
  {
   "cell_type": "code",
   "execution_count": 42,
   "metadata": {},
   "outputs": [
    {
     "name": "stdout",
     "output_type": "stream",
     "text": [
      "Parsing Game title: ELDEN RING\n",
      "Parsing Game title: ELDEN RING\n",
      "Parsing Game title: Destiny 2: The Witch Queen Deluxe Edition\n",
      "Parsing Game title: Destiny 2: The Witch Queen\n",
      "Parsing Game title: Destiny 2: The Witch Queen Deluxe + Bungie 30th Anniversary Bundle\n",
      "Parsing Game title: Total War: WARHAMMER III\n",
      "Parsing Game title: Cyberpunk 2077\n",
      "Parsing Game title: Dying Light 2 Stay Human\n",
      "Parsing Game title: Dread Hunger\n",
      "Parsing Game title: NARAKA: BLADEPOINT\n",
      "Parsing Game titles's 'href:'Pre-purchase ELDEN RING on Steam \n",
      "Parsing Game titles's 'href:'Pre-purchase ELDEN RING on Steam \n",
      "Parsing Game titles's 'href:'Destiny 2: The Witch Queen Deluxe Edition on Steam \n",
      "Parsing Game titles's 'href:'Destiny 2: The Witch Queen on Steam \n",
      "Parsing Game titles's 'href:'Destiny 2: The Witch Queen Deluxe + Bungie 30th Anniversary Bundle on Steam \n",
      "Parsing Game titles's 'href:'Total War: WARHAMMER III on Steam \n",
      "Parsing Game titles's 'href:'Save 50% on Cyberpunk 2077 on Steam \n",
      "Parsing Game titles's 'href:'Dying Light 2 Stay Human on Steam \n",
      "Parsing Game titles's 'href:'Dread Hunger on Steam \n",
      "Parsing Game titles's 'href:'Save 30% on NARAKA: BLADEPOINT on Steam \n"
     ]
    }
   ],
   "source": [
    "parsed_titles = [parse_game_titles(title) for title in titles_a_tags[:10]]\n",
    "parsed_game_href = [parse_game_href(tag['href']) for tag in titles_a_tags[:10]]\n",
    "\n",
    "# to merge two dict into one, use '|' for python version > 3.10.0\n",
    "game_info = [title | title_info for title, title_info in zip(\n",
    "    parsed_titles, parsed_game_href)]\n"
   ]
  },
  {
   "cell_type": "code",
   "execution_count": 43,
   "metadata": {},
   "outputs": [
    {
     "data": {
      "text/plain": [
       "[{'title_name': '\"Cyberpunk 2077\"',\n",
       "  'realease_date': '\"10 Dec 2020\"',\n",
       "  'price': '\"1499.0\"',\n",
       "  'description': '\"Cyberpunk 2077 is an open-world, action-adventure RPG set in the dark future of Night City — a dangerous megalopolis obsessed with power, glamor, and ceaseless body modification.\"',\n",
       "  'title_review': '\"Mostly Positive\"',\n",
       "  'title_rating': '\"(8,715)\"',\n",
       "  'developer': '\"CD PROJEKT RED\"',\n",
       "  'publisher': '\"CD PROJEKT RED\"',\n",
       "  'game_tags': '\"Cyberpunk,Open World,RPG,Sci-fi,Futuristic,Singleplayer,Nudity,FPS,First-Person,Atmospheric,Story Rich,Exploration,Mature,Action,Violent,Great Soundtrack,Action RPG,Adventure,Character Customization,Immersive Sim,+\"'},\n",
       " {'title_name': '\"Dying Light 2 Stay Human\"',\n",
       "  'realease_date': '\"4 Feb 2022\"',\n",
       "  'price': '\"2999.0\"',\n",
       "  'description': '\"The virus won and civilization has fallen back to the Dark Ages. The City, one of the last human settlements, is on the brink of collapse. Use your agility and combat skills to survive, and reshape the world. Your choices matter.\"',\n",
       "  'title_review': '\"Very Positive\"',\n",
       "  'title_rating': '\"(56,600)\"',\n",
       "  'developer': '\"Techland\"',\n",
       "  'publisher': '\"Techland\"',\n",
       "  'game_tags': '\"Open World,Zombies,Parkour,Co-op,Multiplayer,Survival,Action,First-Person,Horror,Gore,Post-apocalyptic,Violent,RPG,Choices Matter,Adventure,Story Rich,Atmospheric,Singleplayer,FPS,Survival Horror,+\"'}]"
      ]
     },
     "execution_count": 43,
     "metadata": {},
     "output_type": "execute_result"
    }
   ],
   "source": [
    "game_info[6:8]"
   ]
  },
  {
   "cell_type": "markdown",
   "metadata": {},
   "source": [
    "### Writing Data to csv file \n",
    ">- Now we can write this data into a csv file"
   ]
  },
  {
   "cell_type": "code",
   "execution_count": 44,
   "metadata": {},
   "outputs": [],
   "source": [
    "with open('./steam_data_tutorial.csv', 'w', encoding=\"utf-8\") as f:\n",
    "\n",
    "    headers = list(game_info[0].keys())\n",
    "    f.write(','.join(headers)+'\\n')\n",
    "\n",
    "    for item in game_info:\n",
    "        values = []\n",
    "        #you can iterate through item too\n",
    "        for header in headers:\n",
    "            values.append(str(item.get(header, '')))\n",
    "        f.write(','.join(values)+'\\n')"
   ]
  },
  {
   "cell_type": "code",
   "execution_count": 45,
   "metadata": {},
   "outputs": [],
   "source": [
    "import os"
   ]
  },
  {
   "cell_type": "code",
   "execution_count": 46,
   "metadata": {},
   "outputs": [
    {
     "data": {
      "text/plain": [
       "['.git',\n",
       " '.github',\n",
       " 'chromedriver',\n",
       " 'chromedriver.exe',\n",
       " 'README.md',\n",
       " 'requirements.txt',\n",
       " 'scrapper.py',\n",
       " 'steam_data_tutorial.csv',\n",
       " 'Steam_scrapper_Tutorial.ipynb']"
      ]
     },
     "execution_count": 46,
     "metadata": {},
     "output_type": "execute_result"
    }
   ],
   "source": [
    "os.listdir('.')"
   ]
  },
  {
   "cell_type": "code",
   "execution_count": 47,
   "metadata": {},
   "outputs": [],
   "source": [
    "def write_to_csv(info, path='./steam_data.csv'):\n",
    "    with open(path, 'w', encoding=\"utf-8\") as f:\n",
    "        if(len(info) == 0):\n",
    "            print('Nothing to write!')\n",
    "            return\n",
    "        headers = list(info[0].keys())\n",
    "        f.write(','.join(headers)+'\\n')\n",
    "\n",
    "        for item in info:\n",
    "            values = []\n",
    "            for header in headers:\n",
    "                values.append(str(item.get(header, '')))\n",
    "            f.write(','.join(values)+'\\n')\n"
   ]
  },
  {
   "cell_type": "markdown",
   "metadata": {},
   "source": [
    "### Loading the csv file as dataframe using pandas"
   ]
  },
  {
   "cell_type": "code",
   "execution_count": 48,
   "metadata": {},
   "outputs": [],
   "source": [
    "import pandas as pd"
   ]
  },
  {
   "cell_type": "code",
   "execution_count": 49,
   "metadata": {},
   "outputs": [],
   "source": [
    "steam_df = pd.read_csv('./steam_data_tutorial.csv')\n"
   ]
  },
  {
   "cell_type": "code",
   "execution_count": 50,
   "metadata": {},
   "outputs": [
    {
     "data": {
      "text/html": [
       "<div>\n",
       "<style scoped>\n",
       "    .dataframe tbody tr th:only-of-type {\n",
       "        vertical-align: middle;\n",
       "    }\n",
       "\n",
       "    .dataframe tbody tr th {\n",
       "        vertical-align: top;\n",
       "    }\n",
       "\n",
       "    .dataframe thead th {\n",
       "        text-align: right;\n",
       "    }\n",
       "</style>\n",
       "<table border=\"1\" class=\"dataframe\">\n",
       "  <thead>\n",
       "    <tr style=\"text-align: right;\">\n",
       "      <th></th>\n",
       "      <th>title_name</th>\n",
       "      <th>realease_date</th>\n",
       "      <th>price</th>\n",
       "      <th>description</th>\n",
       "      <th>title_review</th>\n",
       "      <th>title_rating</th>\n",
       "      <th>developer</th>\n",
       "      <th>publisher</th>\n",
       "      <th>game_tags</th>\n",
       "    </tr>\n",
       "  </thead>\n",
       "  <tbody>\n",
       "    <tr>\n",
       "      <th>5</th>\n",
       "      <td>Total War: WARHAMMER III</td>\n",
       "      <td>17 Feb 2022</td>\n",
       "      <td>3399.0</td>\n",
       "      <td>The cataclysmic conclusion to the Total War: W...</td>\n",
       "      <td>Mixed</td>\n",
       "      <td>(18,214)</td>\n",
       "      <td>CREATIVE ASSEMBLY</td>\n",
       "      <td>SEGA, Feral Interactive</td>\n",
       "      <td>Strategy,Grand Strategy,Turn-Based Strategy,RT...</td>\n",
       "    </tr>\n",
       "    <tr>\n",
       "      <th>3</th>\n",
       "      <td>Destiny 2: The Witch Queen</td>\n",
       "      <td>22 Feb 2022</td>\n",
       "      <td>899.0</td>\n",
       "      <td>None</td>\n",
       "      <td>Very Positive</td>\n",
       "      <td>(249)</td>\n",
       "      <td>Bungie</td>\n",
       "      <td>Bungie</td>\n",
       "      <td>Action,Adventure,Free to Play,Looter Shooter,F...</td>\n",
       "    </tr>\n",
       "    <tr>\n",
       "      <th>9</th>\n",
       "      <td>NARAKA: BLADEPOINT</td>\n",
       "      <td>12 Aug 2021</td>\n",
       "      <td>839.0</td>\n",
       "      <td>BRUCE LEE and his iconic Nunchucks now have jo...</td>\n",
       "      <td>Mostly Positive</td>\n",
       "      <td>(3,811)</td>\n",
       "      <td>24 Entertainment</td>\n",
       "      <td>NetEase Games Montréal</td>\n",
       "      <td>Battle Royale,Multiplayer,Sexual Content,Marti...</td>\n",
       "    </tr>\n",
       "    <tr>\n",
       "      <th>7</th>\n",
       "      <td>Dying Light 2 Stay Human</td>\n",
       "      <td>4 Feb 2022</td>\n",
       "      <td>2999.0</td>\n",
       "      <td>The virus won and civilization has fallen back...</td>\n",
       "      <td>Very Positive</td>\n",
       "      <td>(56,600)</td>\n",
       "      <td>Techland</td>\n",
       "      <td>Techland</td>\n",
       "      <td>Open World,Zombies,Parkour,Co-op,Multiplayer,S...</td>\n",
       "    </tr>\n",
       "    <tr>\n",
       "      <th>0</th>\n",
       "      <td>ELDEN RING</td>\n",
       "      <td>25 Feb 2022</td>\n",
       "      <td>2499.0</td>\n",
       "      <td>THE NEW FANTASY ACTION RPG. Rise, Tarnished, a...</td>\n",
       "      <td>['No user reviews']</td>\n",
       "      <td>0</td>\n",
       "      <td>FromSoftware Inc.</td>\n",
       "      <td>FromSoftware Inc., BANDAI NAMCO Entertainment</td>\n",
       "      <td>Souls-like,Dark Fantasy,RPG,Difficult,Action R...</td>\n",
       "    </tr>\n",
       "  </tbody>\n",
       "</table>\n",
       "</div>"
      ],
      "text/plain": [
       "                   title_name realease_date   price  \\\n",
       "5    Total War: WARHAMMER III   17 Feb 2022  3399.0   \n",
       "3  Destiny 2: The Witch Queen   22 Feb 2022   899.0   \n",
       "9          NARAKA: BLADEPOINT   12 Aug 2021   839.0   \n",
       "7    Dying Light 2 Stay Human    4 Feb 2022  2999.0   \n",
       "0                  ELDEN RING   25 Feb 2022  2499.0   \n",
       "\n",
       "                                         description         title_review  \\\n",
       "5  The cataclysmic conclusion to the Total War: W...                Mixed   \n",
       "3                                               None        Very Positive   \n",
       "9  BRUCE LEE and his iconic Nunchucks now have jo...      Mostly Positive   \n",
       "7  The virus won and civilization has fallen back...        Very Positive   \n",
       "0  THE NEW FANTASY ACTION RPG. Rise, Tarnished, a...  ['No user reviews']   \n",
       "\n",
       "  title_rating          developer  \\\n",
       "5     (18,214)  CREATIVE ASSEMBLY   \n",
       "3        (249)             Bungie   \n",
       "9      (3,811)   24 Entertainment   \n",
       "7     (56,600)           Techland   \n",
       "0            0  FromSoftware Inc.   \n",
       "\n",
       "                                       publisher  \\\n",
       "5                        SEGA, Feral Interactive   \n",
       "3                                         Bungie   \n",
       "9                         NetEase Games Montréal   \n",
       "7                                       Techland   \n",
       "0  FromSoftware Inc., BANDAI NAMCO Entertainment   \n",
       "\n",
       "                                           game_tags  \n",
       "5  Strategy,Grand Strategy,Turn-Based Strategy,RT...  \n",
       "3  Action,Adventure,Free to Play,Looter Shooter,F...  \n",
       "9  Battle Royale,Multiplayer,Sexual Content,Marti...  \n",
       "7  Open World,Zombies,Parkour,Co-op,Multiplayer,S...  \n",
       "0  Souls-like,Dark Fantasy,RPG,Difficult,Action R...  "
      ]
     },
     "execution_count": 50,
     "metadata": {},
     "output_type": "execute_result"
    }
   ],
   "source": [
    "steam_df.sample(5)"
   ]
  },
  {
   "cell_type": "markdown",
   "metadata": {},
   "source": [
    "### Sending the csv file to email \n",
    "- Wow, now that the csv is ready we can send this to email using SMTP\n",
    "- Create a dummy google account with [less secure access enabled](https://myaccount.google.com/lesssecureapps) from which email is to be sent and the recieving email could be any email of your choice\n",
    "\n",
    "Refer : \n",
    "- https://stackoverflow.com/questions/23171140/how-do-i-send-an-email-with-a-csv-attachment-using-python\n",
    "- https://docs.python.org/3/library/email.mime.html\n",
    "- https://www.courier.com/blog/three-ways-to-send-emails-using-python-with-code-tutorials/"
   ]
  },
  {
   "cell_type": "code",
   "execution_count": 51,
   "metadata": {},
   "outputs": [],
   "source": [
    "from email.mime.text import MIMEText\n",
    "import mimetypes\n",
    "from email.mime.multipart import MIMEMultipart\n",
    "from email import encoders\n",
    "import smtplib\n",
    "\n",
    "\n",
    "def send_email():\n",
    "    print('Sending email..')\n",
    "\n",
    "    emailfrom = 'from@gmail.com'\n",
    "    emailto = \"to@gmail.com\"\n",
    "    fileToSend = \"steam_data_tutorial.csv\"\n",
    "    username = \"from email username\"\n",
    "    password = \"from email username\"\n",
    "\n",
    "    msg = MIMEMultipart() #to build a multi part msg(email)\n",
    "    msg[\"From\"] = emailfrom\n",
    "    msg[\"To\"] = emailto\n",
    "    msg[\"Subject\"] = \"Top 100 Topsellers from Steam\"\n",
    "\n",
    "    ctype, encoding = mimetypes.guess_type(fileToSend)\n",
    "    if ctype is None or encoding is not None:\n",
    "        ctype = \"application/octet-stream\"\n",
    "\n",
    "    maintype, subtype = ctype.split(\"/\", 1)\n",
    "\n",
    "    fp = open(fileToSend)\n",
    "    # Note: we should handle calculating the charset\n",
    "    attachment = MIMEText(fp.read(), _subtype=subtype)\n",
    "    fp.close()\n",
    "    encoders.encode_base64(attachment)\n",
    "\n",
    "    attachment.add_header(\"Content-Disposition\",\n",
    "                          \"attachment\", filename=fileToSend)\n",
    "    msg.attach(attachment)\n",
    "\n",
    "    try:\n",
    "        server = smtplib.SMTP_SSL('smtp.gmail.com', 465)\n",
    "        server.login(username, password)\n",
    "        server.sendmail(emailfrom, emailto, msg.as_string())\n",
    "        server.quit()\n",
    "        print('Email Sent!')\n",
    "    except:\n",
    "        print('Sending Email Failed!')\n"
   ]
  },
  {
   "cell_type": "code",
   "execution_count": 52,
   "metadata": {},
   "outputs": [
    {
     "name": "stdout",
     "output_type": "stream",
     "text": [
      "Sending email..\n",
      "Sending Email Failed!\n"
     ]
    }
   ],
   "source": [
    "send_email()"
   ]
  },
  {
   "cell_type": "markdown",
   "metadata": {},
   "source": [
    ">### Setting up a github action\n",
    ">\n",
    "- Once all the methods are done creating, put them in separate 'file.py' like I did in 'scrapper.py' \n",
    "- We are good to push the code to github\n",
    "\n",
    "> Follow these commands to push the code to github\n",
    "- Create a empty repository on github with name of your choice say 'scrapper'\n",
    "- Make sure git is setup on your device (https://www.atlassian.com/git/tutorials/install-git)\n",
    "- Then initialize an empty repo locally using your terminal/cmd prompt\n"
   ]
  },
  {
   "cell_type": "markdown",
   "metadata": {},
   "source": [
    "  >Follow these comamands in your local device\n",
    "  - Navigate to directory you wish to initiliaze with git using cd 'directorypath'\n",
    "  - Then  `git init`\n",
    "  - `git add .`   (to track all files()\n",
    "  - `git commit -m \"short msg title\" -m \"short msg description\" `, (to commit files)\n",
    "  - Copy the ssh\\http link from repo you created on github\n",
    "  - Then `git remote add remote_name ssh\\http_link_here`\n",
    "  - `git remote -v` (to check remote added)\n",
    "  - `git push remote_name branch_name` (finally to push all the code to github)"
   ]
  },
  {
   "cell_type": "markdown",
   "metadata": {},
   "source": [
    ">- Creating a github action\n",
    "- After to all this is done congrats you just added version control to your code\n",
    "- Now to set up a github action go to action tab then click \"set up a workflow yourself\" to set up a new work flow\n",
    "- Cofigure them .yml file to set up your own work flow like this\n",
    "\n",
    "\n",
    "In workflow_name.yml file\n",
    "```\n",
    "#name of action\n",
    "name: action_name  \n",
    "\n",
    "#on which event to run workflow like on push,new pr or scheuled time\n",
    "on:\n",
    "\n",
    "  #scheduled time to run in cron format\n",
    "  schedule:\n",
    "    - cron: \"0 0 * * *\" #runs at 00:00 UTC everyday\n",
    "\n",
    "  #Allows you to run this workflow manually from the Actions tab\n",
    "  workflow_dispatch:\n",
    "\n",
    "  #Triggers the workflow on push events but only for the main branch\n",
    "  push: \n",
    "    branches: [main]\n",
    "\n",
    "#Allows set sensitive data such api keys,pasword hidden \n",
    "\n",
    "env:\n",
    "#if file.py requires passwords..etc, set it as secret\n",
    "  key: ${{ secrets.key }}\n",
    "  \n",
    "#actions or jobs to perform\n",
    "jobs:\n",
    "\n",
    "  #builds on which os\n",
    "      build:\n",
    "        runs-on: ubuntu-latest  \n",
    "  \n",
    "  #order of jobs\n",
    "        steps:\n",
    "        \n",
    "         #job name \n",
    "          - name: checkout repo content\n",
    "            uses: actions/checkout@v2 # checkout the repository content to github runner.\n",
    "          \n",
    "          - name: setup python\n",
    "            uses: actions/setup-python@v2\n",
    "            with:\n",
    "              python-version: 3.10.0 #install the python needed\n",
    "        \n",
    "          - name: execute py script # run the run.py to get the latest data\n",
    "            \n",
    "          #commands to execute on terminal/cmd\n",
    "            run: |\n",
    "              google-chrome --version\n",
    "              chromedriver --version\n",
    "              pip install -r requirements.txt\n",
    "              python file.py \n",
    "```"
   ]
  },
  {
   "cell_type": "markdown",
   "metadata": {},
   "source": [
    "- After doing this go to action click action_name then click on `Run Workflow` to trigger the workflow manually\n",
    "- On successfull/unsuccesful build, see logs to debug any issue you may face \n",
    "- The workflow will automatically run on scheduled time which is very cool, you can check the logs after workflow has been executed."
   ]
  },
  {
   "cell_type": "markdown",
   "metadata": {},
   "source": [
    "## Wrapping Up!\n",
    ">- Learned soo much while doing project, quick summary of work we did\n",
    "- Used selenium to run the browser to open the steam website\n",
    "- Navigated to topsellers page, scrapped game titles for info like name,price,date of game title using beautiful soup\n",
    "- Using requests to get page for each tiltle then scrapped info like review,rating,description,tags,publisher,developer of game\n",
    "- Saved all of this data to a csv file \n",
    "- Loading it back using pandas\n",
    "- Sent the csv file using SMTP\n",
    "- Added version control using git\n",
    "- Made a github action to automate whole workflow from opening browser, scrapper info, saving csv then sending it to email on scheduled time\n",
    "\n",
    "\n",
    ">- Future work\n",
    "- Do an EDA on the build dataset\n",
    "- Use multithreading to process the script faster\n",
    "- Add docker support\n",
    "- Automate using aws lambda\n",
    "\n",
    ">- References \n",
    "- https://github.community/t/how-to-setup-github-actions-to-run-my-python-script-on-schedule/18335/2\n",
    "- https://medium.datadriveninvestor.com/accessing-github-secrets-in-python-d3e758d8089b\n",
    "- https://pandas.pydata.org/docs/reference/frame.html#\n",
    "\n",
    "\n",
    ">- Here are some things to keep in mind w.r.t. web scraping:\n",
    "\n",
    "- Most websites disallow web scraping for commercial purposes\n",
    "- Prefer using web scraping only for learning and research purposes\n",
    "- Some websites may block your IP or stop sending valid information if you send too many requests\n",
    "- Review the terms and conditions of a website before scraping data from it\n",
    "- Remove sensitive and personally identifiable information before publishing a dataset online\n",
    "- Use official REST APIs wherever available, with proper API keys\n",
    "- Scraping data that you see after logging in is harder (it requires special cookies and headers)\n",
    "- Websites change their HTML layout frequently, which may cause your scarping scripts to break"
   ]
  },
  {
   "cell_type": "markdown",
   "metadata": {},
   "source": []
  }
 ],
 "metadata": {
  "interpreter": {
   "hash": "eeb6ac1fa1a58f6468e1234f6ac82feb03bcf002b71f2c79b28e262021cb883d"
  },
  "kernelspec": {
   "display_name": "Python 3.10.0 ('ds')",
   "language": "python",
   "name": "python3"
  },
  "language_info": {
   "codemirror_mode": {
    "name": "ipython",
    "version": 3
   },
   "file_extension": ".py",
   "mimetype": "text/x-python",
   "name": "python",
   "nbconvert_exporter": "python",
   "pygments_lexer": "ipython3",
   "version": "3.10.0"
  },
  "orig_nbformat": 4
 },
 "nbformat": 4,
 "nbformat_minor": 2
}
